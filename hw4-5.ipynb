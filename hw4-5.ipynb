{
 "cells": [
  {
   "cell_type": "code",
   "execution_count": 6,
   "metadata": {},
   "outputs": [],
   "source": [
    "import sqlite3\n",
    "import pandas as pd\n",
    "import matplotlib.pyplot as plt"
   ]
  },
  {
   "cell_type": "code",
   "execution_count": 7,
   "metadata": {},
   "outputs": [],
   "source": [
    "con = sqlite3.connect('imdb_small_indexed.db')\n",
    "cur = con.cursor()"
   ]
  },
  {
   "cell_type": "markdown",
   "metadata": {},
   "source": [
    "Создаю таблицу, называю столбцы"
   ]
  },
  {
   "cell_type": "code",
   "execution_count": 11,
   "metadata": {},
   "outputs": [
    {
     "data": {
      "text/plain": [
       "<sqlite3.Cursor at 0x120d10b90>"
      ]
     },
     "execution_count": 11,
     "metadata": {},
     "output_type": "execute_result"
    }
   ],
   "source": [
    "cur.execute(\"\"\"\n",
    "CREATE TABLE myten_films (\n",
    "    title_id INT, \n",
    "    title TEXT, \n",
    "    premiered INT,\n",
    "    rating REAL,\n",
    "    PRIMARY KEY (title_id)\n",
    ")\n",
    "\"\"\")"
   ]
  },
  {
   "cell_type": "markdown",
   "metadata": {},
   "source": [
    "Делаю запрос к базе данных с Яндекс.Диска, чтобы выбрать нужные фильмы"
   ]
  },
  {
   "cell_type": "code",
   "execution_count": 12,
   "metadata": {},
   "outputs": [],
   "source": [
    "myfilms = \"\"\"\n",
    "SELECT titles.title_id, title, premiered, rating\n",
    "FROM titles\n",
    "    JOIN rating ON titles.title_id = rating.title_id\n",
    "WHERE title in (\"Fight Club\", \"Big Fish\", \"Interstellar\", \"Matrix\", \"Charlie and the Chocolate Factory\", \"Star Wars: Episode VI - Return of the Jedi\", \"Ghost in the Shell\", \"The Devil Wears Prada\", \"Forrest Gump\", \"The Fifth Element\")\n",
    "\"\"\""
   ]
  },
  {
   "cell_type": "code",
   "execution_count": 13,
   "metadata": {},
   "outputs": [
    {
     "data": {
      "text/plain": [
       "<sqlite3.Cursor at 0x120d10b90>"
      ]
     },
     "execution_count": 13,
     "metadata": {},
     "output_type": "execute_result"
    }
   ],
   "source": [
    "cur.execute(myfilms)"
   ]
  },
  {
   "cell_type": "code",
   "execution_count": 14,
   "metadata": {},
   "outputs": [],
   "source": [
    "data = cur.fetchall()"
   ]
  },
  {
   "cell_type": "markdown",
   "metadata": {},
   "source": [
    "Перемещаю данные отфильтрованной таблицы в свою таблицу"
   ]
  },
  {
   "cell_type": "code",
   "execution_count": 15,
   "metadata": {},
   "outputs": [],
   "source": [
    "cur.executemany(\"INSERT INTO myten_films VALUES (?, ?, ?, ?)\", data)\n",
    "con.commit()"
   ]
  },
  {
   "cell_type": "markdown",
   "metadata": {},
   "source": [
    "Для того, чтобы добавить свой столбец к уже существующей табличке, переделываю в датафрейм"
   ]
  },
  {
   "cell_type": "code",
   "execution_count": 16,
   "metadata": {
    "scrolled": true
   },
   "outputs": [
    {
     "data": {
      "text/html": [
       "<div>\n",
       "<style scoped>\n",
       "    .dataframe tbody tr th:only-of-type {\n",
       "        vertical-align: middle;\n",
       "    }\n",
       "\n",
       "    .dataframe tbody tr th {\n",
       "        vertical-align: top;\n",
       "    }\n",
       "\n",
       "    .dataframe thead th {\n",
       "        text-align: right;\n",
       "    }\n",
       "</style>\n",
       "<table border=\"1\" class=\"dataframe\">\n",
       "  <thead>\n",
       "    <tr style=\"text-align: right;\">\n",
       "      <th></th>\n",
       "      <th>title_id</th>\n",
       "      <th>title</th>\n",
       "      <th>premiered</th>\n",
       "      <th>rating</th>\n",
       "    </tr>\n",
       "  </thead>\n",
       "  <tbody>\n",
       "    <tr>\n",
       "      <th>0</th>\n",
       "      <td>86190</td>\n",
       "      <td>Star Wars: Episode VI - Return of the Jedi</td>\n",
       "      <td>1983</td>\n",
       "      <td>8.3</td>\n",
       "    </tr>\n",
       "    <tr>\n",
       "      <th>1</th>\n",
       "      <td>106062</td>\n",
       "      <td>Matrix</td>\n",
       "      <td>1993</td>\n",
       "      <td>7.8</td>\n",
       "    </tr>\n",
       "    <tr>\n",
       "      <th>2</th>\n",
       "      <td>109830</td>\n",
       "      <td>Forrest Gump</td>\n",
       "      <td>1994</td>\n",
       "      <td>8.8</td>\n",
       "    </tr>\n",
       "    <tr>\n",
       "      <th>3</th>\n",
       "      <td>113568</td>\n",
       "      <td>Ghost in the Shell</td>\n",
       "      <td>1995</td>\n",
       "      <td>8.0</td>\n",
       "    </tr>\n",
       "    <tr>\n",
       "      <th>4</th>\n",
       "      <td>119116</td>\n",
       "      <td>The Fifth Element</td>\n",
       "      <td>1997</td>\n",
       "      <td>7.7</td>\n",
       "    </tr>\n",
       "    <tr>\n",
       "      <th>5</th>\n",
       "      <td>137523</td>\n",
       "      <td>Fight Club</td>\n",
       "      <td>1999</td>\n",
       "      <td>8.8</td>\n",
       "    </tr>\n",
       "    <tr>\n",
       "      <th>6</th>\n",
       "      <td>319061</td>\n",
       "      <td>Big Fish</td>\n",
       "      <td>2003</td>\n",
       "      <td>8.0</td>\n",
       "    </tr>\n",
       "    <tr>\n",
       "      <th>7</th>\n",
       "      <td>367594</td>\n",
       "      <td>Charlie and the Chocolate Factory</td>\n",
       "      <td>2005</td>\n",
       "      <td>6.6</td>\n",
       "    </tr>\n",
       "    <tr>\n",
       "      <th>8</th>\n",
       "      <td>458352</td>\n",
       "      <td>The Devil Wears Prada</td>\n",
       "      <td>2006</td>\n",
       "      <td>6.9</td>\n",
       "    </tr>\n",
       "    <tr>\n",
       "      <th>9</th>\n",
       "      <td>816692</td>\n",
       "      <td>Interstellar</td>\n",
       "      <td>2014</td>\n",
       "      <td>8.6</td>\n",
       "    </tr>\n",
       "    <tr>\n",
       "      <th>10</th>\n",
       "      <td>11749868</td>\n",
       "      <td>Matrix</td>\n",
       "      <td>2020</td>\n",
       "      <td>7.9</td>\n",
       "    </tr>\n",
       "    <tr>\n",
       "      <th>11</th>\n",
       "      <td>1219827</td>\n",
       "      <td>Ghost in the Shell</td>\n",
       "      <td>2017</td>\n",
       "      <td>6.3</td>\n",
       "    </tr>\n",
       "    <tr>\n",
       "      <th>12</th>\n",
       "      <td>2855236</td>\n",
       "      <td>Big Fish</td>\n",
       "      <td>2012</td>\n",
       "      <td>3.8</td>\n",
       "    </tr>\n",
       "  </tbody>\n",
       "</table>\n",
       "</div>"
      ],
      "text/plain": [
       "    title_id                                       title  premiered  rating\n",
       "0      86190  Star Wars: Episode VI - Return of the Jedi       1983     8.3\n",
       "1     106062                                      Matrix       1993     7.8\n",
       "2     109830                                Forrest Gump       1994     8.8\n",
       "3     113568                          Ghost in the Shell       1995     8.0\n",
       "4     119116                           The Fifth Element       1997     7.7\n",
       "5     137523                                  Fight Club       1999     8.8\n",
       "6     319061                                    Big Fish       2003     8.0\n",
       "7     367594           Charlie and the Chocolate Factory       2005     6.6\n",
       "8     458352                       The Devil Wears Prada       2006     6.9\n",
       "9     816692                                Interstellar       2014     8.6\n",
       "10  11749868                                      Matrix       2020     7.9\n",
       "11   1219827                          Ghost in the Shell       2017     6.3\n",
       "12   2855236                                    Big Fish       2012     3.8"
      ]
     },
     "execution_count": 16,
     "metadata": {},
     "output_type": "execute_result"
    }
   ],
   "source": [
    "df = pd.read_sql_query(myfilms, con=con)\n",
    "df"
   ]
  },
  {
   "cell_type": "markdown",
   "metadata": {},
   "source": [
    "чищу список от омонимии (некоторые фильмы имели несколько экранизаций)"
   ]
  },
  {
   "cell_type": "code",
   "execution_count": 17,
   "metadata": {},
   "outputs": [],
   "source": [
    "df = df.drop(df[(df.title == 'Matrix') & (df.premiered > 2019)].index)\n",
    "df = df.drop(df[(df.title == 'Big Fish') & (df.premiered > 2011)].index)\n",
    "df = df.drop(df[(df.title == 'Ghost in the Shell') & (df.premiered < 1996)].index)"
   ]
  },
  {
   "cell_type": "code",
   "execution_count": 18,
   "metadata": {},
   "outputs": [
    {
     "data": {
      "text/html": [
       "<div>\n",
       "<style scoped>\n",
       "    .dataframe tbody tr th:only-of-type {\n",
       "        vertical-align: middle;\n",
       "    }\n",
       "\n",
       "    .dataframe tbody tr th {\n",
       "        vertical-align: top;\n",
       "    }\n",
       "\n",
       "    .dataframe thead th {\n",
       "        text-align: right;\n",
       "    }\n",
       "</style>\n",
       "<table border=\"1\" class=\"dataframe\">\n",
       "  <thead>\n",
       "    <tr style=\"text-align: right;\">\n",
       "      <th></th>\n",
       "      <th>title_id</th>\n",
       "      <th>title</th>\n",
       "      <th>premiered</th>\n",
       "      <th>rating</th>\n",
       "    </tr>\n",
       "  </thead>\n",
       "  <tbody>\n",
       "    <tr>\n",
       "      <th>0</th>\n",
       "      <td>86190</td>\n",
       "      <td>Star Wars: Episode VI - Return of the Jedi</td>\n",
       "      <td>1983</td>\n",
       "      <td>8.3</td>\n",
       "    </tr>\n",
       "    <tr>\n",
       "      <th>1</th>\n",
       "      <td>106062</td>\n",
       "      <td>Matrix</td>\n",
       "      <td>1993</td>\n",
       "      <td>7.8</td>\n",
       "    </tr>\n",
       "    <tr>\n",
       "      <th>2</th>\n",
       "      <td>109830</td>\n",
       "      <td>Forrest Gump</td>\n",
       "      <td>1994</td>\n",
       "      <td>8.8</td>\n",
       "    </tr>\n",
       "    <tr>\n",
       "      <th>4</th>\n",
       "      <td>119116</td>\n",
       "      <td>The Fifth Element</td>\n",
       "      <td>1997</td>\n",
       "      <td>7.7</td>\n",
       "    </tr>\n",
       "    <tr>\n",
       "      <th>5</th>\n",
       "      <td>137523</td>\n",
       "      <td>Fight Club</td>\n",
       "      <td>1999</td>\n",
       "      <td>8.8</td>\n",
       "    </tr>\n",
       "    <tr>\n",
       "      <th>6</th>\n",
       "      <td>319061</td>\n",
       "      <td>Big Fish</td>\n",
       "      <td>2003</td>\n",
       "      <td>8.0</td>\n",
       "    </tr>\n",
       "    <tr>\n",
       "      <th>7</th>\n",
       "      <td>367594</td>\n",
       "      <td>Charlie and the Chocolate Factory</td>\n",
       "      <td>2005</td>\n",
       "      <td>6.6</td>\n",
       "    </tr>\n",
       "    <tr>\n",
       "      <th>8</th>\n",
       "      <td>458352</td>\n",
       "      <td>The Devil Wears Prada</td>\n",
       "      <td>2006</td>\n",
       "      <td>6.9</td>\n",
       "    </tr>\n",
       "    <tr>\n",
       "      <th>9</th>\n",
       "      <td>816692</td>\n",
       "      <td>Interstellar</td>\n",
       "      <td>2014</td>\n",
       "      <td>8.6</td>\n",
       "    </tr>\n",
       "    <tr>\n",
       "      <th>11</th>\n",
       "      <td>1219827</td>\n",
       "      <td>Ghost in the Shell</td>\n",
       "      <td>2017</td>\n",
       "      <td>6.3</td>\n",
       "    </tr>\n",
       "  </tbody>\n",
       "</table>\n",
       "</div>"
      ],
      "text/plain": [
       "    title_id                                       title  premiered  rating\n",
       "0      86190  Star Wars: Episode VI - Return of the Jedi       1983     8.3\n",
       "1     106062                                      Matrix       1993     7.8\n",
       "2     109830                                Forrest Gump       1994     8.8\n",
       "4     119116                           The Fifth Element       1997     7.7\n",
       "5     137523                                  Fight Club       1999     8.8\n",
       "6     319061                                    Big Fish       2003     8.0\n",
       "7     367594           Charlie and the Chocolate Factory       2005     6.6\n",
       "8     458352                       The Devil Wears Prada       2006     6.9\n",
       "9     816692                                Interstellar       2014     8.6\n",
       "11   1219827                          Ghost in the Shell       2017     6.3"
      ]
     },
     "execution_count": 18,
     "metadata": {},
     "output_type": "execute_result"
    }
   ],
   "source": [
    "df"
   ]
  },
  {
   "cell_type": "markdown",
   "metadata": {},
   "source": [
    "Добавляю свой рейтинг"
   ]
  },
  {
   "cell_type": "code",
   "execution_count": 19,
   "metadata": {},
   "outputs": [
    {
     "data": {
      "text/html": [
       "<div>\n",
       "<style scoped>\n",
       "    .dataframe tbody tr th:only-of-type {\n",
       "        vertical-align: middle;\n",
       "    }\n",
       "\n",
       "    .dataframe tbody tr th {\n",
       "        vertical-align: top;\n",
       "    }\n",
       "\n",
       "    .dataframe thead th {\n",
       "        text-align: right;\n",
       "    }\n",
       "</style>\n",
       "<table border=\"1\" class=\"dataframe\">\n",
       "  <thead>\n",
       "    <tr style=\"text-align: right;\">\n",
       "      <th></th>\n",
       "      <th>title_id</th>\n",
       "      <th>title</th>\n",
       "      <th>premiered</th>\n",
       "      <th>rating</th>\n",
       "      <th>my_rating</th>\n",
       "    </tr>\n",
       "  </thead>\n",
       "  <tbody>\n",
       "    <tr>\n",
       "      <th>0</th>\n",
       "      <td>86190</td>\n",
       "      <td>Star Wars: Episode VI - Return of the Jedi</td>\n",
       "      <td>1983</td>\n",
       "      <td>8.3</td>\n",
       "      <td>8</td>\n",
       "    </tr>\n",
       "    <tr>\n",
       "      <th>1</th>\n",
       "      <td>106062</td>\n",
       "      <td>Matrix</td>\n",
       "      <td>1993</td>\n",
       "      <td>7.8</td>\n",
       "      <td>10</td>\n",
       "    </tr>\n",
       "    <tr>\n",
       "      <th>2</th>\n",
       "      <td>109830</td>\n",
       "      <td>Forrest Gump</td>\n",
       "      <td>1994</td>\n",
       "      <td>8.8</td>\n",
       "      <td>10</td>\n",
       "    </tr>\n",
       "    <tr>\n",
       "      <th>4</th>\n",
       "      <td>119116</td>\n",
       "      <td>The Fifth Element</td>\n",
       "      <td>1997</td>\n",
       "      <td>7.7</td>\n",
       "      <td>7</td>\n",
       "    </tr>\n",
       "    <tr>\n",
       "      <th>5</th>\n",
       "      <td>137523</td>\n",
       "      <td>Fight Club</td>\n",
       "      <td>1999</td>\n",
       "      <td>8.8</td>\n",
       "      <td>10</td>\n",
       "    </tr>\n",
       "    <tr>\n",
       "      <th>6</th>\n",
       "      <td>319061</td>\n",
       "      <td>Big Fish</td>\n",
       "      <td>2003</td>\n",
       "      <td>8.0</td>\n",
       "      <td>9</td>\n",
       "    </tr>\n",
       "    <tr>\n",
       "      <th>7</th>\n",
       "      <td>367594</td>\n",
       "      <td>Charlie and the Chocolate Factory</td>\n",
       "      <td>2005</td>\n",
       "      <td>6.6</td>\n",
       "      <td>9</td>\n",
       "    </tr>\n",
       "    <tr>\n",
       "      <th>8</th>\n",
       "      <td>458352</td>\n",
       "      <td>The Devil Wears Prada</td>\n",
       "      <td>2006</td>\n",
       "      <td>6.9</td>\n",
       "      <td>9</td>\n",
       "    </tr>\n",
       "    <tr>\n",
       "      <th>9</th>\n",
       "      <td>816692</td>\n",
       "      <td>Interstellar</td>\n",
       "      <td>2014</td>\n",
       "      <td>8.6</td>\n",
       "      <td>6</td>\n",
       "    </tr>\n",
       "    <tr>\n",
       "      <th>11</th>\n",
       "      <td>1219827</td>\n",
       "      <td>Ghost in the Shell</td>\n",
       "      <td>2017</td>\n",
       "      <td>6.3</td>\n",
       "      <td>6</td>\n",
       "    </tr>\n",
       "  </tbody>\n",
       "</table>\n",
       "</div>"
      ],
      "text/plain": [
       "    title_id                                       title  premiered  rating  \\\n",
       "0      86190  Star Wars: Episode VI - Return of the Jedi       1983     8.3   \n",
       "1     106062                                      Matrix       1993     7.8   \n",
       "2     109830                                Forrest Gump       1994     8.8   \n",
       "4     119116                           The Fifth Element       1997     7.7   \n",
       "5     137523                                  Fight Club       1999     8.8   \n",
       "6     319061                                    Big Fish       2003     8.0   \n",
       "7     367594           Charlie and the Chocolate Factory       2005     6.6   \n",
       "8     458352                       The Devil Wears Prada       2006     6.9   \n",
       "9     816692                                Interstellar       2014     8.6   \n",
       "11   1219827                          Ghost in the Shell       2017     6.3   \n",
       "\n",
       "    my_rating  \n",
       "0           8  \n",
       "1          10  \n",
       "2          10  \n",
       "4           7  \n",
       "5          10  \n",
       "6           9  \n",
       "7           9  \n",
       "8           9  \n",
       "9           6  \n",
       "11          6  "
      ]
     },
     "execution_count": 19,
     "metadata": {},
     "output_type": "execute_result"
    }
   ],
   "source": [
    "df['my_rating'] = [8, 10, 10, 7, 10, 9, 9, 9, 6, 6]\n",
    "df"
   ]
  },
  {
   "cell_type": "markdown",
   "metadata": {},
   "source": [
    "Перевожу обратно в базу данных"
   ]
  },
  {
   "cell_type": "code",
   "execution_count": 20,
   "metadata": {},
   "outputs": [],
   "source": [
    "df.to_sql('topten', con=con)"
   ]
  },
  {
   "cell_type": "markdown",
   "metadata": {},
   "source": [
    "Создаю индекс"
   ]
  },
  {
   "cell_type": "code",
   "execution_count": 21,
   "metadata": {},
   "outputs": [
    {
     "data": {
      "text/plain": [
       "<sqlite3.Cursor at 0x120d10b90>"
      ]
     },
     "execution_count": 21,
     "metadata": {},
     "output_type": "execute_result"
    }
   ],
   "source": [
    "cur.execute(\"\"\"\n",
    "CREATE INDEX ratedfilms ON topten (my_rating)\n",
    "\"\"\")"
   ]
  },
  {
   "cell_type": "markdown",
   "metadata": {},
   "source": [
    "Запрос с WHERE"
   ]
  },
  {
   "cell_type": "code",
   "execution_count": 22,
   "metadata": {},
   "outputs": [
    {
     "data": {
      "text/plain": [
       "[('9,9,9,10,10,10',)]"
      ]
     },
     "execution_count": 22,
     "metadata": {},
     "output_type": "execute_result"
    }
   ],
   "source": [
    "cur.execute(\"\"\"\n",
    "SELECT \n",
    "    GROUP_CONCAT(my_rating) as mytoprat\n",
    "FROM topten\n",
    "WHERE my_rating > 8\n",
    "\"\"\")\n",
    "cur.fetchall()"
   ]
  },
  {
   "cell_type": "markdown",
   "metadata": {},
   "source": [
    "Запрос с WHERE, LIMIT, HAVING, GROUP BY"
   ]
  },
  {
   "cell_type": "code",
   "execution_count": 23,
   "metadata": {},
   "outputs": [],
   "source": [
    "cur.execute(\"\"\"\n",
    "SELECT title, premiered, rating, my_rating\n",
    "FROM topten\n",
    "WHERE my_rating > rating \n",
    "GROUP BY my_rating\n",
    "HAVING premiered < 2005\n",
    "LIMIT 5\n",
    "\"\"\")\n",
    "data = cur.fetchall()"
   ]
  },
  {
   "cell_type": "markdown",
   "metadata": {},
   "source": [
    "График по этому запросу, где я сравниваю все фильмы до 2005 года по рейтингу моему и данному изначально, а грфик показывает, какие оценки были мною поставлены этим фильмам"
   ]
  },
  {
   "cell_type": "code",
   "execution_count": 24,
   "metadata": {},
   "outputs": [],
   "source": [
    "df = pd.DataFrame(data, columns=['title', 'premiered','rating', 'my_rating'])"
   ]
  },
  {
   "cell_type": "code",
   "execution_count": 25,
   "metadata": {},
   "outputs": [
    {
     "data": {
      "text/plain": [
       "Text(0, 0.5, 'оценка')"
      ]
     },
     "execution_count": 25,
     "metadata": {},
     "output_type": "execute_result"
    },
    {
     "data": {
      "image/png": "[encoded data removed]",
      "text/plain": [
       "<Figure size 432x288 with 1 Axes>"
      ]
     },
     "metadata": {
      "needs_background": "light"
     },
     "output_type": "display_data"
    }
   ],
   "source": [
    "df['my_rating'].plot.bar(color='blue');\n",
    "plt.title('мой рейтинг')\n",
    "plt.xlabel('фильмы')\n",
    "plt.ylabel('оценка')"
   ]
  },
  {
   "cell_type": "markdown",
   "metadata": {},
   "source": [
    "Запрос с WHERE, GROUP BY, AVG"
   ]
  },
  {
   "cell_type": "code",
   "execution_count": 26,
   "metadata": {},
   "outputs": [
    {
     "data": {
      "text/plain": [
       "[('Star Wars: Episode VI - Return of the Jedi', 1983, 8.0),\n",
       " ('Matrix', 1993, 10.0),\n",
       " ('Forrest Gump', 1994, 10.0),\n",
       " ('The Fifth Element', 1997, 7.0),\n",
       " ('Fight Club', 1999, 10.0)]"
      ]
     },
     "execution_count": 26,
     "metadata": {},
     "output_type": "execute_result"
    }
   ],
   "source": [
    "cur.execute(\"\"\"\n",
    "SELECT \n",
    "    title, premiered,\n",
    "    AVG(my_rating) as average_rat\n",
    "FROM topten\n",
    "WHERE premiered < 2000\n",
    "GROUP BY premiered\n",
    "\"\"\")\n",
    "cur.fetchall()"
   ]
  },
  {
   "cell_type": "markdown",
   "metadata": {},
   "source": [
    "Запрос с MAX, LIMIT"
   ]
  },
  {
   "cell_type": "code",
   "execution_count": 27,
   "metadata": {},
   "outputs": [
    {
     "data": {
      "text/plain": [
       "[('Forrest Gump', 18.8)]"
      ]
     },
     "execution_count": 27,
     "metadata": {},
     "output_type": "execute_result"
    }
   ],
   "source": [
    "cur.execute(\"\"\"\n",
    "SELECT \n",
    "    title, \n",
    "MAX (rating + my_rating) as real_maX\n",
    "FROM topten \n",
    "LIMIT 1\n",
    "\"\"\")\n",
    "cur.fetchall()"
   ]
  },
  {
   "cell_type": "markdown",
   "metadata": {},
   "source": [
    "Запрос с  COUNT, WHERE"
   ]
  },
  {
   "cell_type": "code",
   "execution_count": 28,
   "metadata": {},
   "outputs": [
    {
     "data": {
      "text/plain": [
       "[(4,)]"
      ]
     },
     "execution_count": 28,
     "metadata": {},
     "output_type": "execute_result"
    }
   ],
   "source": [
    "cur.execute(\"\"\"\n",
    "SELECT \n",
    "    COUNT(title) as topfilms\n",
    "FROM topten\n",
    "WHERE rating > 7 and my_rating > 8\n",
    "\"\"\")\n",
    "cur.fetchall()"
   ]
  },
  {
   "cell_type": "markdown",
   "metadata": {},
   "source": [
    "Запрос с GROUP BY, WHERE"
   ]
  },
  {
   "cell_type": "code",
   "execution_count": 29,
   "metadata": {},
   "outputs": [
    {
     "data": {
      "text/plain": [
       "[('Star Wars: Episode VI - Return of the Jedi', 1983),\n",
       " ('Matrix', 1993),\n",
       " ('Forrest Gump', 1994),\n",
       " ('The Fifth Element', 1997),\n",
       " ('Fight Club', 1999),\n",
       " ('Interstellar', 2014),\n",
       " ('Ghost in the Shell', 2017)]"
      ]
     },
     "execution_count": 29,
     "metadata": {},
     "output_type": "execute_result"
    }
   ],
   "source": [
    "cur.execute(\"\"\"\n",
    "SELECT \n",
    "    title, premiered\n",
    "FROM topten\n",
    "WHERE premiered < 2000 or premiered > 2010\n",
    "GROUP BY premiered\n",
    "\"\"\")\n",
    "cur.fetchall()"
   ]
  },
  {
   "cell_type": "code",
   "execution_count": null,
   "metadata": {},
   "outputs": [],
   "source": []
  },
  {
   "cell_type": "code",
   "execution_count": null,
   "metadata": {},
   "outputs": [],
   "source": []
  }
 ],
 "metadata": {
  "kernelspec": {
   "display_name": "Python 3",
   "language": "python",
   "name": "python3"
  },
  "language_info": {
   "codemirror_mode": {
    "name": "ipython",
    "version": 3
   },
   "file_extension": ".py",
   "mimetype": "text/x-python",
   "name": "python",
   "nbconvert_exporter": "python",
   "pygments_lexer": "ipython3",
   "version": "3.7.4"
  }
 },
 "nbformat": 4,
 "nbformat_minor": 4
}
